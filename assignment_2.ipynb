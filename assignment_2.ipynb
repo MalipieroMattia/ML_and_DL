{
 "cells": [
  {
   "cell_type": "code",
   "execution_count": 1,
   "metadata": {},
   "outputs": [],
   "source": [
    "import pandas as pd\n",
    "import numpy as np\n",
    "import matplotlib as plt\n",
    "import seaborn as sns\n",
    "import sklearn"
   ]
  },
  {
   "cell_type": "code",
   "execution_count": 2,
   "metadata": {},
   "outputs": [],
   "source": [
    "# load the datasets\n",
    "xls = pd.ExcelFile('ethereum.xlsx')\n",
    "eth = pd.read_excel(xls, 1)\n",
    "spx = pd.read_csv('spx.csv')"
   ]
  },
  {
   "cell_type": "code",
   "execution_count": 3,
   "metadata": {},
   "outputs": [
    {
     "data": {
      "text/html": [
       "<div>\n",
       "<style scoped>\n",
       "    .dataframe tbody tr th:only-of-type {\n",
       "        vertical-align: middle;\n",
       "    }\n",
       "\n",
       "    .dataframe tbody tr th {\n",
       "        vertical-align: top;\n",
       "    }\n",
       "\n",
       "    .dataframe thead th {\n",
       "        text-align: right;\n",
       "    }\n",
       "</style>\n",
       "<table border=\"1\" class=\"dataframe\">\n",
       "  <thead>\n",
       "    <tr style=\"text-align: right;\">\n",
       "      <th></th>\n",
       "      <th>Unnamed: 0</th>\n",
       "      <th>Unnamed: 1</th>\n",
       "      <th>Unnamed: 2</th>\n",
       "    </tr>\n",
       "  </thead>\n",
       "  <tbody>\n",
       "    <tr>\n",
       "      <th>0</th>\n",
       "      <td>NaN</td>\n",
       "      <td>NaN</td>\n",
       "      <td>NaN</td>\n",
       "    </tr>\n",
       "    <tr>\n",
       "      <th>1</th>\n",
       "      <td>NaN</td>\n",
       "      <td>Ethereum ETH/USD price history up until Mar 2,...</td>\n",
       "      <td>NaN</td>\n",
       "    </tr>\n",
       "    <tr>\n",
       "      <th>2</th>\n",
       "      <td>NaN</td>\n",
       "      <td>Ethereum (ETH) price per day from June 7, 2022...</td>\n",
       "      <td>NaN</td>\n",
       "    </tr>\n",
       "    <tr>\n",
       "      <th>3</th>\n",
       "      <td>NaN</td>\n",
       "      <td>NaN</td>\n",
       "      <td>NaN</td>\n",
       "    </tr>\n",
       "    <tr>\n",
       "      <th>4</th>\n",
       "      <td>NaN</td>\n",
       "      <td>Jun 7, 2022</td>\n",
       "      <td>1814.05</td>\n",
       "    </tr>\n",
       "    <tr>\n",
       "      <th>5</th>\n",
       "      <td>NaN</td>\n",
       "      <td>Jun 8, 2022</td>\n",
       "      <td>1793.57</td>\n",
       "    </tr>\n",
       "    <tr>\n",
       "      <th>6</th>\n",
       "      <td>NaN</td>\n",
       "      <td>Jun 9, 2022</td>\n",
       "      <td>1789.83</td>\n",
       "    </tr>\n",
       "    <tr>\n",
       "      <th>7</th>\n",
       "      <td>NaN</td>\n",
       "      <td>Jun 10, 2022</td>\n",
       "      <td>1665.04</td>\n",
       "    </tr>\n",
       "    <tr>\n",
       "      <th>8</th>\n",
       "      <td>NaN</td>\n",
       "      <td>Jun 11, 2022</td>\n",
       "      <td>1529.66</td>\n",
       "    </tr>\n",
       "    <tr>\n",
       "      <th>9</th>\n",
       "      <td>NaN</td>\n",
       "      <td>Jun 12, 2022</td>\n",
       "      <td>1445.22</td>\n",
       "    </tr>\n",
       "  </tbody>\n",
       "</table>\n",
       "</div>"
      ],
      "text/plain": [
       "   Unnamed: 0                                         Unnamed: 1  Unnamed: 2\n",
       "0         NaN                                                NaN         NaN\n",
       "1         NaN  Ethereum ETH/USD price history up until Mar 2,...         NaN\n",
       "2         NaN  Ethereum (ETH) price per day from June 7, 2022...         NaN\n",
       "3         NaN                                                NaN         NaN\n",
       "4         NaN                                        Jun 7, 2022     1814.05\n",
       "5         NaN                                        Jun 8, 2022     1793.57\n",
       "6         NaN                                        Jun 9, 2022     1789.83\n",
       "7         NaN                                       Jun 10, 2022     1665.04\n",
       "8         NaN                                       Jun 11, 2022     1529.66\n",
       "9         NaN                                       Jun 12, 2022     1445.22"
      ]
     },
     "execution_count": 3,
     "metadata": {},
     "output_type": "execute_result"
    }
   ],
   "source": [
    "eth.head(10)"
   ]
  },
  {
   "cell_type": "code",
   "execution_count": 4,
   "metadata": {},
   "outputs": [],
   "source": [
    "eth = eth.iloc[:, [1, 2]]  # Select the second and third columns\n",
    "eth.columns = ['Date', 'Price']  # Rename columns\n"
   ]
  },
  {
   "cell_type": "code",
   "execution_count": 5,
   "metadata": {},
   "outputs": [],
   "source": [
    "eth = eth.iloc[4:].reset_index(drop=True)"
   ]
  },
  {
   "cell_type": "code",
   "execution_count": 6,
   "metadata": {},
   "outputs": [
    {
     "data": {
      "text/html": [
       "<div>\n",
       "<style scoped>\n",
       "    .dataframe tbody tr th:only-of-type {\n",
       "        vertical-align: middle;\n",
       "    }\n",
       "\n",
       "    .dataframe tbody tr th {\n",
       "        vertical-align: top;\n",
       "    }\n",
       "\n",
       "    .dataframe thead th {\n",
       "        text-align: right;\n",
       "    }\n",
       "</style>\n",
       "<table border=\"1\" class=\"dataframe\">\n",
       "  <thead>\n",
       "    <tr style=\"text-align: right;\">\n",
       "      <th></th>\n",
       "      <th>Date</th>\n",
       "      <th>Price</th>\n",
       "    </tr>\n",
       "  </thead>\n",
       "  <tbody>\n",
       "    <tr>\n",
       "      <th>0</th>\n",
       "      <td>Jun 7, 2022</td>\n",
       "      <td>1814.05</td>\n",
       "    </tr>\n",
       "    <tr>\n",
       "      <th>1</th>\n",
       "      <td>Jun 8, 2022</td>\n",
       "      <td>1793.57</td>\n",
       "    </tr>\n",
       "    <tr>\n",
       "      <th>2</th>\n",
       "      <td>Jun 9, 2022</td>\n",
       "      <td>1789.83</td>\n",
       "    </tr>\n",
       "    <tr>\n",
       "      <th>3</th>\n",
       "      <td>Jun 10, 2022</td>\n",
       "      <td>1665.04</td>\n",
       "    </tr>\n",
       "    <tr>\n",
       "      <th>4</th>\n",
       "      <td>Jun 11, 2022</td>\n",
       "      <td>1529.66</td>\n",
       "    </tr>\n",
       "  </tbody>\n",
       "</table>\n",
       "</div>"
      ],
      "text/plain": [
       "           Date    Price\n",
       "0   Jun 7, 2022  1814.05\n",
       "1   Jun 8, 2022  1793.57\n",
       "2   Jun 9, 2022  1789.83\n",
       "3  Jun 10, 2022  1665.04\n",
       "4  Jun 11, 2022  1529.66"
      ]
     },
     "execution_count": 6,
     "metadata": {},
     "output_type": "execute_result"
    }
   ],
   "source": [
    "eth.head()"
   ]
  },
  {
   "cell_type": "code",
   "execution_count": 7,
   "metadata": {},
   "outputs": [
    {
     "data": {
      "text/html": [
       "<div>\n",
       "<style scoped>\n",
       "    .dataframe tbody tr th:only-of-type {\n",
       "        vertical-align: middle;\n",
       "    }\n",
       "\n",
       "    .dataframe tbody tr th {\n",
       "        vertical-align: top;\n",
       "    }\n",
       "\n",
       "    .dataframe thead th {\n",
       "        text-align: right;\n",
       "    }\n",
       "</style>\n",
       "<table border=\"1\" class=\"dataframe\">\n",
       "  <thead>\n",
       "    <tr style=\"text-align: right;\">\n",
       "      <th></th>\n",
       "      <th>Date</th>\n",
       "      <th>Close/Last</th>\n",
       "      <th>Open</th>\n",
       "      <th>High</th>\n",
       "      <th>Low</th>\n",
       "    </tr>\n",
       "  </thead>\n",
       "  <tbody>\n",
       "    <tr>\n",
       "      <th>0</th>\n",
       "      <td>02/28/2025</td>\n",
       "      <td>5954.50</td>\n",
       "      <td>5856.74</td>\n",
       "      <td>5959.40</td>\n",
       "      <td>5837.66</td>\n",
       "    </tr>\n",
       "    <tr>\n",
       "      <th>1</th>\n",
       "      <td>02/27/2025</td>\n",
       "      <td>5861.57</td>\n",
       "      <td>5981.88</td>\n",
       "      <td>5993.69</td>\n",
       "      <td>5858.78</td>\n",
       "    </tr>\n",
       "    <tr>\n",
       "      <th>2</th>\n",
       "      <td>02/26/2025</td>\n",
       "      <td>5956.06</td>\n",
       "      <td>5970.87</td>\n",
       "      <td>6009.82</td>\n",
       "      <td>5932.69</td>\n",
       "    </tr>\n",
       "    <tr>\n",
       "      <th>3</th>\n",
       "      <td>02/25/2025</td>\n",
       "      <td>5955.25</td>\n",
       "      <td>5982.73</td>\n",
       "      <td>5992.65</td>\n",
       "      <td>5908.49</td>\n",
       "    </tr>\n",
       "    <tr>\n",
       "      <th>4</th>\n",
       "      <td>02/24/2025</td>\n",
       "      <td>5983.25</td>\n",
       "      <td>6026.69</td>\n",
       "      <td>6043.65</td>\n",
       "      <td>5977.83</td>\n",
       "    </tr>\n",
       "  </tbody>\n",
       "</table>\n",
       "</div>"
      ],
      "text/plain": [
       "         Date  Close/Last     Open     High      Low\n",
       "0  02/28/2025     5954.50  5856.74  5959.40  5837.66\n",
       "1  02/27/2025     5861.57  5981.88  5993.69  5858.78\n",
       "2  02/26/2025     5956.06  5970.87  6009.82  5932.69\n",
       "3  02/25/2025     5955.25  5982.73  5992.65  5908.49\n",
       "4  02/24/2025     5983.25  6026.69  6043.65  5977.83"
      ]
     },
     "execution_count": 7,
     "metadata": {},
     "output_type": "execute_result"
    }
   ],
   "source": [
    "spx.head()"
   ]
  },
  {
   "cell_type": "code",
   "execution_count": 8,
   "metadata": {},
   "outputs": [
    {
     "name": "stdout",
     "output_type": "stream",
     "text": [
      "<class 'pandas.core.frame.DataFrame'>\n",
      "RangeIndex: 1000 entries, 0 to 999\n",
      "Data columns (total 2 columns):\n",
      " #   Column  Non-Null Count  Dtype         \n",
      "---  ------  --------------  -----         \n",
      " 0   Date    1000 non-null   datetime64[ns]\n",
      " 1   Price   1000 non-null   float64       \n",
      "dtypes: datetime64[ns](1), float64(1)\n",
      "memory usage: 15.8 KB\n"
     ]
    }
   ],
   "source": [
    "#Bringing the dater column into the same format as the other other dataset, and  made it into date object.\n",
    "eth['Date']=pd.to_datetime(eth['Date'])\n",
    "eth['Date'] =eth['Date'].dt.strftime('%m/%d/%Y')\n",
    "eth['Date']=pd.to_datetime(eth['Date'])\n",
    "eth.info()"
   ]
  },
  {
   "cell_type": "code",
   "execution_count": 9,
   "metadata": {},
   "outputs": [
    {
     "name": "stdout",
     "output_type": "stream",
     "text": [
      "<class 'pandas.core.frame.DataFrame'>\n",
      "RangeIndex: 1256 entries, 0 to 1255\n",
      "Data columns (total 5 columns):\n",
      " #   Column      Non-Null Count  Dtype         \n",
      "---  ------      --------------  -----         \n",
      " 0   Date        1256 non-null   datetime64[ns]\n",
      " 1   Close/Last  1256 non-null   float64       \n",
      " 2   Open        1256 non-null   float64       \n",
      " 3   High        1256 non-null   float64       \n",
      " 4   Low         1256 non-null   float64       \n",
      "dtypes: datetime64[ns](1), float64(4)\n",
      "memory usage: 49.2 KB\n"
     ]
    }
   ],
   "source": [
    "spx['Date']=pd.to_datetime(spx['Date'])\n",
    "spx.info()"
   ]
  },
  {
   "cell_type": "code",
   "execution_count": 10,
   "metadata": {},
   "outputs": [],
   "source": [
    "spx=spx[spx['Date'] >= '07/07/2022']"
   ]
  },
  {
   "cell_type": "code",
   "execution_count": 11,
   "metadata": {},
   "outputs": [
    {
     "data": {
      "text/html": [
       "<div>\n",
       "<style scoped>\n",
       "    .dataframe tbody tr th:only-of-type {\n",
       "        vertical-align: middle;\n",
       "    }\n",
       "\n",
       "    .dataframe tbody tr th {\n",
       "        vertical-align: top;\n",
       "    }\n",
       "\n",
       "    .dataframe thead th {\n",
       "        text-align: right;\n",
       "    }\n",
       "</style>\n",
       "<table border=\"1\" class=\"dataframe\">\n",
       "  <thead>\n",
       "    <tr style=\"text-align: right;\">\n",
       "      <th></th>\n",
       "      <th>date</th>\n",
       "      <th>eth_price</th>\n",
       "      <th>spx_price</th>\n",
       "    </tr>\n",
       "  </thead>\n",
       "  <tbody>\n",
       "    <tr>\n",
       "      <th>0</th>\n",
       "      <td>2022-07-07</td>\n",
       "      <td>1237.59</td>\n",
       "      <td>3902.62</td>\n",
       "    </tr>\n",
       "    <tr>\n",
       "      <th>1</th>\n",
       "      <td>2022-07-08</td>\n",
       "      <td>1222.51</td>\n",
       "      <td>3899.38</td>\n",
       "    </tr>\n",
       "    <tr>\n",
       "      <th>2</th>\n",
       "      <td>2022-07-11</td>\n",
       "      <td>1097.24</td>\n",
       "      <td>3854.43</td>\n",
       "    </tr>\n",
       "    <tr>\n",
       "      <th>3</th>\n",
       "      <td>2022-07-12</td>\n",
       "      <td>1038.19</td>\n",
       "      <td>3818.80</td>\n",
       "    </tr>\n",
       "    <tr>\n",
       "      <th>4</th>\n",
       "      <td>2022-07-13</td>\n",
       "      <td>1113.59</td>\n",
       "      <td>3801.78</td>\n",
       "    </tr>\n",
       "  </tbody>\n",
       "</table>\n",
       "</div>"
      ],
      "text/plain": [
       "        date  eth_price  spx_price\n",
       "0 2022-07-07    1237.59    3902.62\n",
       "1 2022-07-08    1222.51    3899.38\n",
       "2 2022-07-11    1097.24    3854.43\n",
       "3 2022-07-12    1038.19    3818.80\n",
       "4 2022-07-13    1113.59    3801.78"
      ]
     },
     "execution_count": 11,
     "metadata": {},
     "output_type": "execute_result"
    }
   ],
   "source": [
    "merged=pd.merge(eth, spx, on='Date', how='inner')\n",
    "merged\n",
    "\n",
    "df = merged[['Date', 'Price', 'Close/Last']]\n",
    "df.columns = ['date', 'eth_price', 'spx_price']\n",
    "df.head()"
   ]
  },
  {
   "cell_type": "code",
   "execution_count": 12,
   "metadata": {},
   "outputs": [
    {
     "data": {
      "image/png": "[encoded data removed]",
      "text/plain": [
       "<Figure size 1000x700 with 1 Axes>"
      ]
     },
     "metadata": {},
     "output_type": "display_data"
    }
   ],
   "source": [
    "import matplotlib.pyplot as plt\n",
    "\n",
    "df1 = df.copy()\n",
    "# Set date as index\n",
    "df1.set_index(\"date\", inplace=True)\n",
    "\n",
    "# Normalize data and plot\n",
    "(df1/df1.iloc[0]*100).plot(figsize=(10,7))\n",
    "\n",
    "plt.title(\"Normalized Prices Over Time\")\n",
    "plt.ylabel(\"Normalized Price (%)\")\n",
    "plt.xlabel(\"Date\")\n",
    "plt.show()\n"
   ]
  },
  {
   "cell_type": "code",
   "execution_count": 13,
   "metadata": {},
   "outputs": [
    {
     "data": {
      "image/png": "[encoded data removed]",
      "text/plain": [
       "<Figure size 640x480 with 1 Axes>"
      ]
     },
     "metadata": {},
     "output_type": "display_data"
    }
   ],
   "source": [
    "# Creating a graph with all the columns.\n",
    "plt.plot(df['date'], df['eth_price'], label='exp', color='blue')\n",
    "plt.plot(df['date'], df['spx_price'], label='spx', color='orange')\n",
    "plt.title('Real Price Comparison')\n",
    "plt.xlabel('Time')\n",
    "plt.ylabel(' EXP & SPX Prices')\n",
    "plt.legend()\n",
    "plt.show()"
   ]
  },
  {
   "cell_type": "code",
   "execution_count": 14,
   "metadata": {},
   "outputs": [
    {
     "name": "stdout",
     "output_type": "stream",
     "text": [
      "Return on Investment (RoI): 50.00%\n"
     ]
    }
   ],
   "source": [
    "def calculate_roi(profit, investment_cost):\n",
    "    roi = ((profit - investment_cost) / investment_cost) * 100\n",
    "    return roi\n",
    "\n",
    "# Example Usage\n",
    "profit = 15000  # Total return from investment\n",
    "investment_cost = 10000  # Initial investment cost\n",
    "\n",
    "roi = calculate_roi(profit, investment_cost)\n",
    "print(f\"Return on Investment (RoI): {roi:.2f}%\")"
   ]
  },
  {
   "cell_type": "code",
   "execution_count": 15,
   "metadata": {},
   "outputs": [
    {
     "name": "stdout",
     "output_type": "stream",
     "text": [
      "Return on Investment (RoI):\n",
      "eth_price    80.828061\n",
      "spx_price    52.576987\n",
      "dtype: float64\n"
     ]
    }
   ],
   "source": [
    "import pandas as pd\n",
    "\n",
    "# Define investment and final dates\n",
    "investment_date = \"2022-07-07\"\n",
    "final_date = \"2025-02-28\"\n",
    "\n",
    "# Extract prices for the given dates\n",
    "if investment_date in df1.index and final_date in df1.index:\n",
    "    investment_price = df1.loc[investment_date]\n",
    "    final_price = df1.loc[final_date]\n",
    "\n",
    "    # Compute RoI\n",
    "    roi = ((final_price - investment_price) / investment_price) * 100\n",
    "    print(\"Return on Investment (RoI):\")\n",
    "    print(roi)\n",
    "else:\n",
    "    print(\"One of the required dates is missing in the DataFrame.\")\n"
   ]
  },
  {
   "cell_type": "code",
   "execution_count": 16,
   "metadata": {},
   "outputs": [
    {
     "data": {
      "text/html": [
       "<div>\n",
       "<style scoped>\n",
       "    .dataframe tbody tr th:only-of-type {\n",
       "        vertical-align: middle;\n",
       "    }\n",
       "\n",
       "    .dataframe tbody tr th {\n",
       "        vertical-align: top;\n",
       "    }\n",
       "\n",
       "    .dataframe thead th {\n",
       "        text-align: right;\n",
       "    }\n",
       "</style>\n",
       "<table border=\"1\" class=\"dataframe\">\n",
       "  <thead>\n",
       "    <tr style=\"text-align: right;\">\n",
       "      <th></th>\n",
       "      <th>eth_price</th>\n",
       "      <th>spx_price</th>\n",
       "    </tr>\n",
       "    <tr>\n",
       "      <th>date</th>\n",
       "      <th></th>\n",
       "      <th></th>\n",
       "    </tr>\n",
       "  </thead>\n",
       "  <tbody>\n",
       "    <tr>\n",
       "      <th>2022-07-07</th>\n",
       "      <td>1237.59</td>\n",
       "      <td>3902.62</td>\n",
       "    </tr>\n",
       "    <tr>\n",
       "      <th>2022-07-08</th>\n",
       "      <td>1222.51</td>\n",
       "      <td>3899.38</td>\n",
       "    </tr>\n",
       "    <tr>\n",
       "      <th>2022-07-11</th>\n",
       "      <td>1097.24</td>\n",
       "      <td>3854.43</td>\n",
       "    </tr>\n",
       "    <tr>\n",
       "      <th>2022-07-12</th>\n",
       "      <td>1038.19</td>\n",
       "      <td>3818.80</td>\n",
       "    </tr>\n",
       "    <tr>\n",
       "      <th>2022-07-13</th>\n",
       "      <td>1113.59</td>\n",
       "      <td>3801.78</td>\n",
       "    </tr>\n",
       "  </tbody>\n",
       "</table>\n",
       "</div>"
      ],
      "text/plain": [
       "            eth_price  spx_price\n",
       "date                            \n",
       "2022-07-07    1237.59    3902.62\n",
       "2022-07-08    1222.51    3899.38\n",
       "2022-07-11    1097.24    3854.43\n",
       "2022-07-12    1038.19    3818.80\n",
       "2022-07-13    1113.59    3801.78"
      ]
     },
     "execution_count": 16,
     "metadata": {},
     "output_type": "execute_result"
    }
   ],
   "source": [
    "df1.head()"
   ]
  },
  {
   "cell_type": "code",
   "execution_count": 17,
   "metadata": {},
   "outputs": [
    {
     "data": {
      "text/html": [
       "<div>\n",
       "<style scoped>\n",
       "    .dataframe tbody tr th:only-of-type {\n",
       "        vertical-align: middle;\n",
       "    }\n",
       "\n",
       "    .dataframe tbody tr th {\n",
       "        vertical-align: top;\n",
       "    }\n",
       "\n",
       "    .dataframe thead th {\n",
       "        text-align: right;\n",
       "    }\n",
       "</style>\n",
       "<table border=\"1\" class=\"dataframe\">\n",
       "  <thead>\n",
       "    <tr style=\"text-align: right;\">\n",
       "      <th></th>\n",
       "      <th>date</th>\n",
       "      <th>eth_price</th>\n",
       "      <th>spx_price</th>\n",
       "    </tr>\n",
       "  </thead>\n",
       "  <tbody>\n",
       "    <tr>\n",
       "      <th>0</th>\n",
       "      <td>2022-07-07</td>\n",
       "      <td>1237.59</td>\n",
       "      <td>3902.62</td>\n",
       "    </tr>\n",
       "    <tr>\n",
       "      <th>1</th>\n",
       "      <td>2022-07-08</td>\n",
       "      <td>1222.51</td>\n",
       "      <td>3899.38</td>\n",
       "    </tr>\n",
       "    <tr>\n",
       "      <th>2</th>\n",
       "      <td>2022-07-11</td>\n",
       "      <td>1097.24</td>\n",
       "      <td>3854.43</td>\n",
       "    </tr>\n",
       "    <tr>\n",
       "      <th>3</th>\n",
       "      <td>2022-07-12</td>\n",
       "      <td>1038.19</td>\n",
       "      <td>3818.80</td>\n",
       "    </tr>\n",
       "    <tr>\n",
       "      <th>4</th>\n",
       "      <td>2022-07-13</td>\n",
       "      <td>1113.59</td>\n",
       "      <td>3801.78</td>\n",
       "    </tr>\n",
       "  </tbody>\n",
       "</table>\n",
       "</div>"
      ],
      "text/plain": [
       "        date  eth_price  spx_price\n",
       "0 2022-07-07    1237.59    3902.62\n",
       "1 2022-07-08    1222.51    3899.38\n",
       "2 2022-07-11    1097.24    3854.43\n",
       "3 2022-07-12    1038.19    3818.80\n",
       "4 2022-07-13    1113.59    3801.78"
      ]
     },
     "execution_count": 17,
     "metadata": {},
     "output_type": "execute_result"
    }
   ],
   "source": [
    "df.head()"
   ]
  },
  {
   "cell_type": "code",
   "execution_count": 18,
   "metadata": {},
   "outputs": [
    {
     "name": "stdout",
     "output_type": "stream",
     "text": [
      "Skipping period 2024-08-01 to 2025-02-01 (dates missing)\n",
      "                          eth_price  spx_price\n",
      "2022-08-01 to 2023-02-01   0.403009   0.014082\n",
      "2023-02-01 to 2023-08-01  14.009100  11.106984\n",
      "2023-08-01 to 2024-02-01  23.081115   7.198589\n",
      "2024-02-01 to 2024-08-01  38.967454  11.016491\n"
     ]
    }
   ],
   "source": [
    "import pandas as pd\n",
    "\n",
    "# Generate semester start dates (Jan 1, July 1 of each year)\n",
    "semester_dates = pd.date_range(start=df1.index.min(), end=df1.index.max(), freq=\"6MS\")\n",
    "\n",
    "# Store RoI results\n",
    "roi_results = {}\n",
    "\n",
    "for i in range(len(semester_dates) - 1):\n",
    "    start_date = semester_dates[i]\n",
    "    end_date = semester_dates[i + 1]\n",
    "\n",
    "    # Find closest available dates in df1\n",
    "    if start_date in df1.index and end_date in df1.index:\n",
    "        start_price = df1.loc[start_date]\n",
    "        end_price = df1.loc[end_date]\n",
    "\n",
    "        # Compute RoI\n",
    "        roi = ((end_price - start_price) / start_price) * 100\n",
    "        roi_results[f\"{start_date.date()} to {end_date.date()}\"] = roi\n",
    "    else:\n",
    "        print(f\"Skipping period {start_date.date()} to {end_date.date()} (dates missing)\")\n",
    "\n",
    "# Convert to DataFrame for better visualization\n",
    "roi_df = pd.DataFrame(roi_results).T\n",
    "print(roi_df)\n"
   ]
  },
  {
   "cell_type": "code",
   "execution_count": 44,
   "metadata": {},
   "outputs": [
    {
     "name": "stdout",
     "output_type": "stream",
     "text": [
      "                          eth_price  spx_price\n",
      "2022-08-01 to 2023-02-01   0.403009   0.014082\n",
      "2023-02-01 to 2023-08-01  14.009100  11.106984\n",
      "2023-08-01 to 2024-02-01  23.081115   7.198589\n",
      "2024-02-01 to 2024-08-01  38.967454  11.016491\n",
      "2024-08-01 to 2025-02-28 -30.099389   9.323478\n"
     ]
    }
   ],
   "source": [
    "# Generate semester start dates (Jan 1, July 1) until the latest available date\n",
    "semester_dates = pd.date_range(start=df1.index.min(), end=df1.index.max(), freq=\"6MS\")\n",
    "\n",
    "# Ensure the last date aligns with the latest available date in df1\n",
    "semester_dates = list(semester_dates)\n",
    "if semester_dates[-1] != df1.index.max():\n",
    "    semester_dates[-1] = df1.index.max()  # Replace last intermediate date with actual last date\n",
    "\n",
    "# Store RoI results\n",
    "roi_results = {}\n",
    "\n",
    "for i in range(len(semester_dates) - 1):\n",
    "    start_date = semester_dates[i]\n",
    "    end_date = semester_dates[i + 1]\n",
    "\n",
    "    # Find closest available start and end dates in df1\n",
    "    start_date = df1.index[df1.index.get_indexer([start_date], method=\"nearest\")[0]]\n",
    "    end_date = df1.index[df1.index.get_indexer([end_date], method=\"nearest\")[0]]\n",
    "\n",
    "    start_price = df1.loc[start_date]\n",
    "    end_price = df1.loc[end_date]\n",
    "\n",
    "    # Compute RoI\n",
    "    roi = ((end_price - start_price) / start_price) * 100\n",
    "    roi_results[f\"{start_date.date()} to {end_date.date()}\"] = roi\n",
    "\n",
    "# Convert to DataFrame for better visualization\n",
    "roi_df = pd.DataFrame(roi_results).T\n",
    "print(roi_df)"
   ]
  },
  {
   "cell_type": "code",
   "execution_count": 48,
   "metadata": {},
   "outputs": [
    {
     "name": "stderr",
     "output_type": "stream",
     "text": [
      "/var/folders/zj/9fz4tznn7953lty4s90jjsqc0000gn/T/ipykernel_36867/3226110118.py:1: FutureWarning: Series.__getitem__ treating keys as positions is deprecated. In a future version, integer keys will always be treated as labels (consistent with DataFrame behavior). To access a value by position, use `ser.iloc[pos]`\n",
      "  df_norm = df1.apply(lambda x: np.log(x) - np.log(x[0]))\n"
     ]
    },
    {
     "data": {
      "text/html": [
       "<div>\n",
       "<style scoped>\n",
       "    .dataframe tbody tr th:only-of-type {\n",
       "        vertical-align: middle;\n",
       "    }\n",
       "\n",
       "    .dataframe tbody tr th {\n",
       "        vertical-align: top;\n",
       "    }\n",
       "\n",
       "    .dataframe thead th {\n",
       "        text-align: right;\n",
       "    }\n",
       "</style>\n",
       "<table border=\"1\" class=\"dataframe\">\n",
       "  <thead>\n",
       "    <tr style=\"text-align: right;\">\n",
       "      <th></th>\n",
       "      <th>eth_price</th>\n",
       "      <th>spx_price</th>\n",
       "    </tr>\n",
       "    <tr>\n",
       "      <th>date</th>\n",
       "      <th></th>\n",
       "      <th></th>\n",
       "    </tr>\n",
       "  </thead>\n",
       "  <tbody>\n",
       "    <tr>\n",
       "      <th>2022-07-07</th>\n",
       "      <td>0.000000</td>\n",
       "      <td>0.000000</td>\n",
       "    </tr>\n",
       "    <tr>\n",
       "      <th>2022-07-08</th>\n",
       "      <td>-0.012260</td>\n",
       "      <td>-0.000831</td>\n",
       "    </tr>\n",
       "    <tr>\n",
       "      <th>2022-07-11</th>\n",
       "      <td>-0.120368</td>\n",
       "      <td>-0.012425</td>\n",
       "    </tr>\n",
       "    <tr>\n",
       "      <th>2022-07-12</th>\n",
       "      <td>-0.175687</td>\n",
       "      <td>-0.021712</td>\n",
       "    </tr>\n",
       "    <tr>\n",
       "      <th>2022-07-13</th>\n",
       "      <td>-0.105577</td>\n",
       "      <td>-0.026179</td>\n",
       "    </tr>\n",
       "  </tbody>\n",
       "</table>\n",
       "</div>"
      ],
      "text/plain": [
       "            eth_price  spx_price\n",
       "date                            \n",
       "2022-07-07   0.000000   0.000000\n",
       "2022-07-08  -0.012260  -0.000831\n",
       "2022-07-11  -0.120368  -0.012425\n",
       "2022-07-12  -0.175687  -0.021712\n",
       "2022-07-13  -0.105577  -0.026179"
      ]
     },
     "execution_count": 48,
     "metadata": {},
     "output_type": "execute_result"
    }
   ],
   "source": [
    "df_norm = df1.apply(lambda x: np.log(x) - np.log(x[0]))\n",
    "df_norm.head()"
   ]
  },
  {
   "cell_type": "code",
   "execution_count": 54,
   "metadata": {},
   "outputs": [
    {
     "data": {
      "text/html": [
       "<div>\n",
       "<style scoped>\n",
       "    .dataframe tbody tr th:only-of-type {\n",
       "        vertical-align: middle;\n",
       "    }\n",
       "\n",
       "    .dataframe tbody tr th {\n",
       "        vertical-align: top;\n",
       "    }\n",
       "\n",
       "    .dataframe thead th {\n",
       "        text-align: right;\n",
       "    }\n",
       "</style>\n",
       "<table border=\"1\" class=\"dataframe\">\n",
       "  <thead>\n",
       "    <tr style=\"text-align: right;\">\n",
       "      <th></th>\n",
       "      <th>eth_price</th>\n",
       "      <th>spx_price</th>\n",
       "    </tr>\n",
       "    <tr>\n",
       "      <th>date</th>\n",
       "      <th></th>\n",
       "      <th></th>\n",
       "    </tr>\n",
       "  </thead>\n",
       "  <tbody>\n",
       "    <tr>\n",
       "      <th>2022-07-07</th>\n",
       "      <td>NaN</td>\n",
       "      <td>NaN</td>\n",
       "    </tr>\n",
       "    <tr>\n",
       "      <th>2022-07-08</th>\n",
       "      <td>-0.012260</td>\n",
       "      <td>-0.000831</td>\n",
       "    </tr>\n",
       "    <tr>\n",
       "      <th>2022-07-11</th>\n",
       "      <td>-0.108108</td>\n",
       "      <td>-0.011594</td>\n",
       "    </tr>\n",
       "    <tr>\n",
       "      <th>2022-07-12</th>\n",
       "      <td>-0.055319</td>\n",
       "      <td>-0.009287</td>\n",
       "    </tr>\n",
       "    <tr>\n",
       "      <th>2022-07-13</th>\n",
       "      <td>0.070110</td>\n",
       "      <td>-0.004467</td>\n",
       "    </tr>\n",
       "  </tbody>\n",
       "</table>\n",
       "</div>"
      ],
      "text/plain": [
       "            eth_price  spx_price\n",
       "date                            \n",
       "2022-07-07        NaN        NaN\n",
       "2022-07-08  -0.012260  -0.000831\n",
       "2022-07-11  -0.108108  -0.011594\n",
       "2022-07-12  -0.055319  -0.009287\n",
       "2022-07-13   0.070110  -0.004467"
      ]
     },
     "execution_count": 54,
     "metadata": {},
     "output_type": "execute_result"
    }
   ],
   "source": [
    "#compute log returns with pandas using the shift method\n",
    "lnret = np.log(df1)-np.log(df1.shift(1))\n",
    "lnret.head()"
   ]
  },
  {
   "cell_type": "code",
   "execution_count": 56,
   "metadata": {},
   "outputs": [],
   "source": [
    "lnret.dropna(inplace=True)"
   ]
  },
  {
   "cell_type": "code",
   "execution_count": 58,
   "metadata": {},
   "outputs": [
    {
     "name": "stdout",
     "output_type": "stream",
     "text": [
      "Outliers for stock 'eth_price' = 2\n",
      "Outliers for stock 'spx_price' = 1\n"
     ]
    }
   ],
   "source": [
    "import numpy as np\n",
    "\n",
    "# Get stock tickers (column names)\n",
    "stocks = df1.columns  \n",
    "\n",
    "# Define number of standard deviations for outlier detection\n",
    "nsd = 5  \n",
    "\n",
    "# Loop through each stock and detect outliers\n",
    "for stock in stocks:\n",
    "    mu = lnret[stock].mean()  # Mean log return\n",
    "    sd = lnret[stock].std()   # Standard deviation of log return\n",
    "\n",
    "    # Identify outliers beyond 5 standard deviations\n",
    "    NOUT = lnret[(lnret[stock] < mu - nsd * sd) | (lnret[stock] > mu + nsd * sd)]\n",
    "\n",
    "    print(f\"Outliers for stock '{stock}' = {len(NOUT)}\")\n"
   ]
  },
  {
   "cell_type": "code",
   "execution_count": 66,
   "metadata": {},
   "outputs": [
    {
     "name": "stdout",
     "output_type": "stream",
     "text": [
      "The VaR for stock with ticker eth_price is = -0.10808490042845946\n",
      "The VaR for stock with ticker spx_price is = -0.024424573669356332\n"
     ]
    }
   ],
   "source": [
    "# value at risk with confidence level conf\n",
    "conf = 0.01\n",
    "for stock in stocks:\n",
    "    val_at_risk = lnret[stock].quantile(conf)\n",
    "    print(\"The VaR for stock with ticker \" + stock + \" is = \" + str(val_at_risk))"
   ]
  },
  {
   "cell_type": "code",
   "execution_count": 72,
   "metadata": {},
   "outputs": [
    {
     "data": {
      "text/plain": [
       "count    664.000000\n",
       "mean       0.000892\n",
       "std        0.040954\n",
       "min       -0.211324\n",
       "25%       -0.019241\n",
       "50%       -0.000205\n",
       "75%        0.020038\n",
       "max        0.247059\n",
       "Name: eth_price, dtype: float64"
      ]
     },
     "execution_count": 72,
     "metadata": {},
     "output_type": "execute_result"
    }
   ],
   "source": [
    "lnret['eth_price'].describe()"
   ]
  },
  {
   "cell_type": "code",
   "execution_count": 74,
   "metadata": {},
   "outputs": [
    {
     "data": {
      "text/plain": [
       "count    664.000000\n",
       "mean       0.000636\n",
       "std        0.009694\n",
       "min       -0.044199\n",
       "25%       -0.004690\n",
       "50%        0.000584\n",
       "75%        0.006193\n",
       "max        0.053953\n",
       "Name: spx_price, dtype: float64"
      ]
     },
     "execution_count": 74,
     "metadata": {},
     "output_type": "execute_result"
    }
   ],
   "source": [
    "lnret['spx_price'].describe()"
   ]
  },
  {
   "cell_type": "code",
   "execution_count": 86,
   "metadata": {},
   "outputs": [
    {
     "data": {
      "text/html": [
       "<div>\n",
       "<style scoped>\n",
       "    .dataframe tbody tr th:only-of-type {\n",
       "        vertical-align: middle;\n",
       "    }\n",
       "\n",
       "    .dataframe tbody tr th {\n",
       "        vertical-align: top;\n",
       "    }\n",
       "\n",
       "    .dataframe thead th {\n",
       "        text-align: right;\n",
       "    }\n",
       "</style>\n",
       "<table border=\"1\" class=\"dataframe\">\n",
       "  <thead>\n",
       "    <tr style=\"text-align: right;\">\n",
       "      <th></th>\n",
       "      <th>eth_price</th>\n",
       "      <th>spx_price</th>\n",
       "    </tr>\n",
       "  </thead>\n",
       "  <tbody>\n",
       "    <tr>\n",
       "      <th>eth_price</th>\n",
       "      <td>1.000000</td>\n",
       "      <td>0.353464</td>\n",
       "    </tr>\n",
       "    <tr>\n",
       "      <th>spx_price</th>\n",
       "      <td>0.353464</td>\n",
       "      <td>1.000000</td>\n",
       "    </tr>\n",
       "  </tbody>\n",
       "</table>\n",
       "</div>"
      ],
      "text/plain": [
       "           eth_price  spx_price\n",
       "eth_price   1.000000   0.353464\n",
       "spx_price   0.353464   1.000000"
      ]
     },
     "execution_count": 86,
     "metadata": {},
     "output_type": "execute_result"
    }
   ],
   "source": [
    "lnret.corr()"
   ]
  },
  {
   "cell_type": "code",
   "execution_count": 84,
   "metadata": {},
   "outputs": [
    {
     "data": {
      "text/html": [
       "<div>\n",
       "<style scoped>\n",
       "    .dataframe tbody tr th:only-of-type {\n",
       "        vertical-align: middle;\n",
       "    }\n",
       "\n",
       "    .dataframe tbody tr th {\n",
       "        vertical-align: top;\n",
       "    }\n",
       "\n",
       "    .dataframe thead th {\n",
       "        text-align: right;\n",
       "    }\n",
       "</style>\n",
       "<table border=\"1\" class=\"dataframe\">\n",
       "  <thead>\n",
       "    <tr style=\"text-align: right;\">\n",
       "      <th></th>\n",
       "      <th>eth_price</th>\n",
       "      <th>spx_price</th>\n",
       "    </tr>\n",
       "  </thead>\n",
       "  <tbody>\n",
       "    <tr>\n",
       "      <th>eth_price</th>\n",
       "      <td>0.422655</td>\n",
       "      <td>0.035361</td>\n",
       "    </tr>\n",
       "    <tr>\n",
       "      <th>spx_price</th>\n",
       "      <td>0.035361</td>\n",
       "      <td>0.023680</td>\n",
       "    </tr>\n",
       "  </tbody>\n",
       "</table>\n",
       "</div>"
      ],
      "text/plain": [
       "           eth_price  spx_price\n",
       "eth_price   0.422655   0.035361\n",
       "spx_price   0.035361   0.023680"
      ]
     },
     "execution_count": 84,
     "metadata": {},
     "output_type": "execute_result"
    }
   ],
   "source": [
    "lnret.cov()*252 # variance covariance matrix (annualized)"
   ]
  },
  {
   "cell_type": "code",
   "execution_count": 100,
   "metadata": {},
   "outputs": [
    {
     "name": "stdout",
     "output_type": "stream",
     "text": [
      "CPU times: user 3.13 s, sys: 11.9 ms, total: 3.14 s\n",
      "Wall time: 3.14 s\n"
     ]
    }
   ],
   "source": [
    "%%time\n",
    "prets = [] # mean return\n",
    "pvols = [] # standard deviation\n",
    "pweights = [] # weights\n",
    "pvar5 = [] # VaR 5%\n",
    "conf = 0.05\n",
    "for p in range(10000):\n",
    "    weights = np.random.random(2)\n",
    "    weights /= np.sum(weights)\n",
    "    prets.append(np.sum(lnret.mean()*weights)*252)\n",
    "    pvols.append(np.sqrt(np.dot(weights.T,np.dot(lnret.cov()*252,weights))))\n",
    "    pweights.append(weights)\n",
    "    pvar5.append(np.quantile(np.dot(lnret.dropna(), weights.T), conf)) # take quantile of portfolio using lnret\n",
    "\n",
    "prets = np.array(prets)\n",
    "pvols = np.array(pvols)\n",
    "pvar5 = np.array(pvar5)\n",
    "    "
   ]
  },
  {
   "cell_type": "code",
   "execution_count": 104,
   "metadata": {},
   "outputs": [
    {
     "data": {
      "text/plain": [
       "<matplotlib.colorbar.Colorbar at 0x3019b2ad0>"
      ]
     },
     "execution_count": 104,
     "metadata": {},
     "output_type": "execute_result"
    },
    {
     "data": {
      "image/png": "[encoded data removed]",
      "text/plain": [
       "<Figure size 1000x700 with 2 Axes>"
      ]
     },
     "metadata": {},
     "output_type": "display_data"
    }
   ],
   "source": [
    "# for the computation, I assume a risk-free rate of 0 in Sharpe ratio\n",
    "\n",
    "plt.figure(figsize=(10,7))\n",
    "plt.scatter(pvols,prets,c=prets/pvols,marker='o')\n",
    "plt.grid(True)\n",
    "plt.xlabel('vol')\n",
    "plt.ylabel('expected ret')\n",
    "plt.colorbar(label='Sharpe Ratio')"
   ]
  },
  {
   "cell_type": "code",
   "execution_count": null,
   "metadata": {},
   "outputs": [],
   "source": []
  }
 ],
 "metadata": {
  "kernelspec": {
   "display_name": "Python 3 (ipykernel)",
   "language": "python",
   "name": "python3"
  },
  "language_info": {
   "codemirror_mode": {
    "name": "ipython",
    "version": 3
   },
   "file_extension": ".py",
   "mimetype": "text/x-python",
   "name": "python",
   "nbconvert_exporter": "python",
   "pygments_lexer": "ipython3",
   "version": "3.10.14"
  }
 },
 "nbformat": 4,
 "nbformat_minor": 4
}
